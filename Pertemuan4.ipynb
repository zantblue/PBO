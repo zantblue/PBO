{
  "nbformat": 4,
  "nbformat_minor": 0,
  "metadata": {
    "colab": {
      "provenance": [],
      "authorship_tag": "ABX9TyMbnWLC//MA4Wm91eQxqHb9",
      "include_colab_link": true
    },
    "kernelspec": {
      "name": "python3",
      "display_name": "Python 3"
    },
    "language_info": {
      "name": "python"
    }
  },
  "cells": [
    {
      "cell_type": "markdown",
      "metadata": {
        "id": "view-in-github",
        "colab_type": "text"
      },
      "source": [
        "<a href=\"https://colab.research.google.com/github/zantblue/PBO/blob/main/Pertemuan4.ipynb\" target=\"_parent\"><img src=\"https://colab.research.google.com/assets/colab-badge.svg\" alt=\"Open In Colab\"/></a>"
      ]
    },
    {
      "cell_type": "code",
      "execution_count": null,
      "metadata": {
        "id": "Gxs96x1pRzqq"
      },
      "outputs": [],
      "source": [
        "# Apa itu Object Oriented Programming\n",
        "\n",
        "#   Semuanya adalah objek, seperti list,string\n",
        "#   Objek disebut Class\n",
        "#   OOP itu memungkinkan kita membuat objek sendiri, termasuk methods dan atributsnya\n",
        "\n"
      ]
    },
    {
      "cell_type": "code",
      "source": [
        "print(type(\"Saya Adalah String\"))"
      ],
      "metadata": {
        "colab": {
          "base_uri": "https://localhost:8080/"
        },
        "id": "UMLcpxkgSJdk",
        "outputId": "5ef5f4b6-9bc8-4475-8e6f-48b65ea7ef27"
      },
      "execution_count": 33,
      "outputs": [
        {
          "output_type": "stream",
          "name": "stdout",
          "text": [
            "<class 'str'>\n"
          ]
        }
      ]
    },
    {
      "cell_type": "code",
      "source": [
        "class NamaClass:\n",
        "\n",
        "  def __init__(self, nama_atribut1, nama_atribut2):\n",
        "    self.nama_atribut1 = nama_atribut1\n",
        "    self.nama_atribut2 = nama_atribut2\n",
        "\n",
        "  def nama_method(self):\n",
        "    return #tulis fungsi"
      ],
      "metadata": {
        "id": "mLXHTOw9TJeU"
      },
      "execution_count": 34,
      "outputs": []
    },
    {
      "cell_type": "code",
      "source": [
        "class Person:\n",
        "  def __init__(self, nama, umur):\n",
        "    self.nama = nama\n",
        "    self.umur = umur\n",
        "\n",
        "  def introduce(self):\n",
        "    return f\"Halo nama saya adalah {self.nama} dan umur saya {self.umur} tahun\"\n",
        "\n",
        "  #membuat objek persen dari kelas person\n",
        "person = Person(\"Mizard\", 19)\n",
        "\n",
        "  #Panggil metode introduce dan mengakses atribut person dan umur menggunakan self\n",
        "print(person.introduce())\n"
      ],
      "metadata": {
        "colab": {
          "base_uri": "https://localhost:8080/"
        },
        "id": "5YVUXBSPTuki",
        "outputId": "cdbb7da7-9022-4f1e-a39c-540d082d45be"
      },
      "execution_count": 35,
      "outputs": [
        {
          "output_type": "stream",
          "name": "stdout",
          "text": [
            "Halo nama saya adalah Mizard dan umur saya 19 tahun\n"
          ]
        }
      ]
    },
    {
      "cell_type": "code",
      "source": [
        "class Mahasiswa:\n",
        "  def __init__(self, nama, nim, jurusan):\n",
        "    self.nama = nama\n",
        "    self.nim = nim\n",
        "    self.jurusan = jurusan\n",
        "    #inisialisasi daftar nilai dengan list kosong\n",
        "    self.nilai = []\n",
        "\n",
        "  def tambah_nilai(self, matakuliah, nilai):\n",
        "    self.nilai.append((matakuliah,nilai))\n",
        "\n",
        "  def rata_rata_nilai(self):\n",
        "    total_nilai = sum(nilai for mata_kuliah, nilai in self.nilai)\n",
        "    rata_rata = total_nilai / len(self.nilai) if self.nilai else()\n",
        "    return rata_rata\n",
        "\n",
        "  def info(self):\n",
        "    print(f\"Nama    : {self.nama}\")\n",
        "    print(f\"Nim     : {self.nim}\")\n",
        "    print(f\"Jurusan : {self.jurusan}\")\n",
        "    print(f\"Rata-rata Nilai  : {self.rata_rata_nilai()}\")"
      ],
      "metadata": {
        "id": "VHiDH_P-Vl4d"
      },
      "execution_count": 38,
      "outputs": []
    },
    {
      "cell_type": "code",
      "source": [
        "mahasiswa1 = Mahasiswa(\"Mizuru\", 5220411093, \"Informatika\")\n",
        "mahasiswa1.tambah_nilai(\"APTI\", 80)\n",
        "mahasiswa1.tambah_nilai(\"Alpro\", 88)\n",
        "mahasiswa1.tambah_nilai(\"PBO\", 92)\n",
        "mahasiswa1.info()"
      ],
      "metadata": {
        "colab": {
          "base_uri": "https://localhost:8080/"
        },
        "id": "XTW4tAJeXkgb",
        "outputId": "52cb1a08-989e-495f-fc54-dadb4a81a01c"
      },
      "execution_count": 39,
      "outputs": [
        {
          "output_type": "stream",
          "name": "stdout",
          "text": [
            "Nama    : Mizuru\n",
            "Nim     : 5220411093\n",
            "Jurusan : Informatika\n",
            "Rata-rata Nilai  : 86.66666666666667\n"
          ]
        }
      ]
    }
  ]
}
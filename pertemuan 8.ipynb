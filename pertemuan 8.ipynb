{
  "nbformat": 4,
  "nbformat_minor": 0,
  "metadata": {
    "colab": {
      "provenance": [],
      "authorship_tag": "ABX9TyO7vc+Fig7LVumsflM715ql",
      "include_colab_link": true
    },
    "kernelspec": {
      "name": "python3",
      "display_name": "Python 3"
    },
    "language_info": {
      "name": "python"
    }
  },
  "cells": [
    {
      "cell_type": "markdown",
      "metadata": {
        "id": "view-in-github",
        "colab_type": "text"
      },
      "source": [
        "<a href=\"https://colab.research.google.com/github/zantblue/PBO/blob/main/pertemuan%208.ipynb\" target=\"_parent\"><img src=\"https://colab.research.google.com/assets/colab-badge.svg\" alt=\"Open In Colab\"/></a>"
      ]
    },
    {
      "cell_type": "code",
      "execution_count": 7,
      "metadata": {
        "id": "BOD5RqWgnEI6"
      },
      "outputs": [],
      "source": [
        "class UTY(object):\n",
        "    def __init__(self, status, nama, prodi):\n",
        "        self.nama = nama\n",
        "        self.status = status\n",
        "        self.prodi = prodi\n",
        "\n",
        "    def Semangat(self):\n",
        "        print(\"Indonesia Maju! Indonesia Tumbuh! UTY Hebat?\")\n",
        "\n",
        "    def Info(self):\n",
        "        print(\"-- INFORMASI -- \")\n",
        "        print(\"Nama          : \" + self.nama)\n",
        "        print(\"Status        :\" + self.status)\n",
        "        print(\"Program Studi : \" + self.prodi)"
      ]
    },
    {
      "cell_type": "code",
      "source": [
        "class Dosen(UTY):\n",
        "    def __init__(self, status, nama, prodi, nip):\n",
        "        self.nip = nip\n",
        "        super().__init__(status, nama, prodi)\n",
        "\n",
        "    def SemangatDosen(self):\n",
        "        self.Semangat()\n",
        "        print(\"Dosen Bermartabat?\")\n",
        "\n",
        "    def InfoDosen(self):\n",
        "        self.Info()\n",
        "        print(\"NIP : \" + str(self.nip))\n"
      ],
      "metadata": {
        "id": "OWtaQQzxxuCz"
      },
      "execution_count": 8,
      "outputs": []
    },
    {
      "cell_type": "code",
      "source": [
        "class Mahasiswa(UTY):\n",
        "    def __init__(self, status, nama, prodi, npm):\n",
        "        self.npm = npm\n",
        "        super().__init__(status, nama, prodi)\n",
        "\n",
        "    def SemangatMahasiswa(self):\n",
        "        self.Semangat()\n",
        "        print(\"Mahasiswa Hebat!\")\n",
        "\n",
        "    def InfoMahasiswa(self):\n",
        "        self.Info()\n",
        "        print(\"NIP : \" + str(self.npm))"
      ],
      "metadata": {
        "id": "5V8yAIhLxuKJ"
      },
      "execution_count": 9,
      "outputs": []
    },
    {
      "cell_type": "code",
      "source": [
        "dosen = Dosen(\"Dosen\", \"Thomas\", \"Informatika\", 12345678)\n",
        "dosen.InfoDosen()\n",
        "dosen.SemangatDosen()\n",
        "print(\"=\" * 45)\n",
        "\n",
        "mahasiswa = Mahasiswa(\"Mahasiswa\", \"Mizuru\", \"Teknik Nuklir\", 522012345)\n",
        "mahasiswa.InfoMahasiswa()\n",
        "mahasiswa.SemangatMahasiswa()"
      ],
      "metadata": {
        "colab": {
          "base_uri": "https://localhost:8080/",
          "height": 0
        },
        "id": "271gH_fHxy7S",
        "outputId": "70056fc9-7f57-4da1-db73-0c61c550ce60"
      },
      "execution_count": 10,
      "outputs": [
        {
          "output_type": "stream",
          "name": "stdout",
          "text": [
            "-- INFORMASI -- \n",
            "Nama          : Thomas\n",
            "Status        :Dosen\n",
            "Program Studi : Informatika\n",
            "NIP : 12345678\n",
            "Indonesia Maju! Indonesia Tumbuh! UTY Hebat?\n",
            "Dosen Bermartabat?\n",
            "=============================================\n",
            "-- INFORMASI -- \n",
            "Nama          : Mizuru\n",
            "Status        :Mahasiswa\n",
            "Program Studi : Teknik Nuklir\n",
            "NIP : 522012345\n",
            "Indonesia Maju! Indonesia Tumbuh! UTY Hebat?\n",
            "Mahasiswa Hebat!\n"
          ]
        }
      ]
    },
    {
      "cell_type": "code",
      "source": [
        "class Komputer(object):\n",
        "    def __init__(self, nama, pabrik, harga, jenis):\n",
        "        self.nama = nama\n",
        "        self.pabrik = pabrik\n",
        "        self.harga = harga\n",
        "        self.jenis = jenis\n",
        "\n",
        "    def Info(self):\n",
        "        print(\"Nama      : \" + self.nama)\n",
        "        print(\"Pabrik    : \" + self.pabrik)\n",
        "        print(\"Harga     : Rp. \" + str(self.harga))\n",
        "        print(\"Jenis     : \" + self.jenis)"
      ],
      "metadata": {
        "id": "RAPUDF6XELXl"
      },
      "execution_count": 11,
      "outputs": []
    },
    {
      "cell_type": "code",
      "source": [
        "class Processor(Komputer):\n",
        "    def __init__(\n",
        "        self, nama, pabrik, core, model, generasi, frekuensi, memory, harga, jenis\n",
        "    ):\n",
        "        self.core = core\n",
        "        self.model = model\n",
        "        self.generasi = generasi\n",
        "        self.frekuensi = frekuensi\n",
        "        self.memory = memory\n",
        "        super().__init__(nama, pabrik, harga, jenis)\n",
        "\n",
        "    def InfoProcessor(self):\n",
        "        print(\"---- INFORMASI Processor ---- \")\n",
        "        self.Info()\n",
        "        print(\"Core      : \" + str(self.core))\n",
        "        print(\"Model     : \" + self.model)\n",
        "        print(\"Generasi  : \" + self.generasi)\n",
        "        print(\"Frekuensi : \" + self.frekuensi)\n",
        "        print(\"Memory    : \" + self.memory)"
      ],
      "metadata": {
        "id": "8A4ADZCOEMAE"
      },
      "execution_count": 12,
      "outputs": []
    },
    {
      "cell_type": "code",
      "source": [
        "class RAM(Komputer):\n",
        "    def __init__(self, nama, pabrik, kapasitas, speed, chip, tegangan, harga, jenis):\n",
        "        self.kapasitas = kapasitas\n",
        "        self.speed = speed\n",
        "        self.chip = chip\n",
        "        self.tegangan = tegangan\n",
        "        super().__init__(nama, pabrik, harga, jenis)\n",
        "\n",
        "    def InfoRAM(self):\n",
        "        print(\"---- INFORMASI RAM ---- \")\n",
        "        self.Info()\n",
        "        print(\"Kapasitas : \" + str(self.kapasitas))\n",
        "        print(\"Speed     : \" + str(self.speed))\n",
        "        print(\"Chip      : \" + self.chip)\n",
        "        print(\"Tegangan  : \" + self.tegangan)"
      ],
      "metadata": {
        "id": "8kcZ-3vWEMGd"
      },
      "execution_count": 13,
      "outputs": []
    },
    {
      "cell_type": "code",
      "source": [
        "class Hardisk(Komputer):\n",
        "    def __init__(self, nama, pabrik, interface, kapasitas, kesehatan, harga, jenis):\n",
        "        self.kapasitas = kapasitas\n",
        "        self.interface = interface\n",
        "        self.kesehatan = kesehatan\n",
        "        super().__init__(nama, pabrik, harga, jenis)\n",
        "\n",
        "    def InfoHardisk(self):\n",
        "        print(\"---- INFORMASI Hardisk ---- \")\n",
        "        self.Info()\n",
        "        print(\"Kapasitas : \" + self.kapasitas)\n",
        "        print(\"Interface : \" + self.interface)\n",
        "        print(\"Kesehatan : \" + self.kesehatan)"
      ],
      "metadata": {
        "id": "10CkOU8WEMKK"
      },
      "execution_count": 14,
      "outputs": []
    },
    {
      "cell_type": "code",
      "source": [
        "processor = Processor(\n",
        "    \"Intel Core i3\", \"Intel\", 4, \"i3-10105F\", \"10th Generation\", \"3.60 GHz\", \"DDR4-2666\", 9000000, \"Dekstop\",)\n",
        "processor.InfoProcessor()\n",
        "print(\"=\" * 45)\n",
        "\n",
        "ram = RAM(\"NOX DDR4 PC2500\", \"Samsung\", 16, 4800, \"Samsung\", \"1.25 V\", 800000, \"Dekstop\")\n",
        "ram.InfoRAM()\n",
        "print(\"=\" * 45)\n",
        "\n",
        "hardisk = Hardisk(\"Baracuda Sata\", \"Samsung\", \"1TB\", \"sata\", \"80%\", 700000, \"Dekstop\")\n",
        "hardisk.InfoHardisk()\n",
        "print(\"=\" * 45)"
      ],
      "metadata": {
        "colab": {
          "base_uri": "https://localhost:8080/",
          "height": 0
        },
        "id": "-TAOHeQBEMNc",
        "outputId": "f7220fb1-4b24-423a-f709-30f5d9a30344"
      },
      "execution_count": 15,
      "outputs": [
        {
          "output_type": "stream",
          "name": "stdout",
          "text": [
            "---- INFORMASI Processor ---- \n",
            "Nama      : Intel Core i3\n",
            "Pabrik    : Intel\n",
            "Harga     : Rp. 9000000\n",
            "Jenis     : Dekstop\n",
            "Core      : 4\n",
            "Model     : i3-10105F\n",
            "Generasi  : 10th Generation\n",
            "Frekuensi : 3.60 GHz\n",
            "Memory    : DDR4-2666\n",
            "=============================================\n",
            "---- INFORMASI RAM ---- \n",
            "Nama      : NOX DDR4 PC2500\n",
            "Pabrik    : Samsung\n",
            "Harga     : Rp. 800000\n",
            "Jenis     : Dekstop\n",
            "Kapasitas : 16\n",
            "Speed     : 4800\n",
            "Chip      : Samsung\n",
            "Tegangan  : 1.25 V\n",
            "=============================================\n",
            "---- INFORMASI Hardisk ---- \n",
            "Nama      : Baracuda Sata\n",
            "Pabrik    : Samsung\n",
            "Harga     : Rp. 700000\n",
            "Jenis     : Dekstop\n",
            "Kapasitas : sata\n",
            "Interface : 1TB\n",
            "Kesehatan : 80%\n",
            "=============================================\n"
          ]
        }
      ]
    }
  ]
}
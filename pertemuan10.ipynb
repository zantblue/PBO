{
  "nbformat": 4,
  "nbformat_minor": 0,
  "metadata": {
    "colab": {
      "provenance": [],
      "authorship_tag": "ABX9TyPsMRPtl6XD6Ee14zfroU2z",
      "include_colab_link": true
    },
    "kernelspec": {
      "name": "python3",
      "display_name": "Python 3"
    },
    "language_info": {
      "name": "python"
    }
  },
  "cells": [
    {
      "cell_type": "markdown",
      "metadata": {
        "id": "view-in-github",
        "colab_type": "text"
      },
      "source": [
        "<a href=\"https://colab.research.google.com/github/zantblue/PBO/blob/main/pertemuan10.ipynb\" target=\"_parent\"><img src=\"https://colab.research.google.com/assets/colab-badge.svg\" alt=\"Open In Colab\"/></a>"
      ]
    },
    {
      "cell_type": "code",
      "execution_count": 4,
      "metadata": {
        "id": "FLgpEEmgrwo6"
      },
      "outputs": [],
      "source": [
        "import math\n",
        "\n",
        "class Kalkulator:\n",
        "    def __init__(self, x, y):\n",
        "        self.A = x\n",
        "        self.B = y\n",
        "        print(\"A = \" + str(x) + \", B = \" + str(y))\n",
        "\n",
        "    def tambah(self):\n",
        "        self.hasil = self.A + self.B\n",
        "        print(\"A + B = \" + str(self.hasil))\n",
        "\n",
        "    def kurang(self):\n",
        "        self.hasil = self.A - self.B\n",
        "        print(\"A - B = \" + str(self.hasil))\n",
        "\n",
        "    def kali(self):\n",
        "        self.hasil = self.A * self.B\n",
        "        print(\"A x B = \" + str(self.hasil))\n",
        "\n",
        "    def bagi(self):\n",
        "        if self.B == 0:\n",
        "            print(\"Pembagian dengan nol\")\n",
        "        else:\n",
        "            self.hasil = self.A / self.B\n",
        "            print(\"A / B = \" + str(self.hasil))\n",
        "\n",
        "    def akar(self):\n",
        "        self.hasil = math.sqrt(self.A)\n",
        "        print(\"Akar dari A      = \" + str(self.hasil))\n",
        "\n",
        "    def faktorial(self):\n",
        "        self.hasil = math.factorial(self.A)\n",
        "        print(\"Faktorial dari A = \" + str(self.hasil))\n",
        "\n",
        "    def pangkat(self):\n",
        "        self.hasil = self.A**self.B\n",
        "        print(\"A pangkat B      = \" + str(self.hasil))\n",
        "\n"
      ]
    },
    {
      "cell_type": "code",
      "source": [
        "object1 = Kalkulator(1, 2)\n",
        "object1.tambah()\n",
        "object1.kurang()\n",
        "object1.kali()\n",
        "object1.bagi()\n",
        "object1.akar()\n",
        "object1.faktorial()\n",
        "object1.pangkat()\n",
        "\n",
        "print(\"-\" * 20)\n",
        "object2 = Kalkulator(10, 5)\n",
        "object2.bagi()\n",
        "object1.akar()\n",
        "object1.faktorial()\n",
        "object1.pangkat()"
      ],
      "metadata": {
        "colab": {
          "base_uri": "https://localhost:8080/"
        },
        "id": "Y0kWG7B7wKQG",
        "outputId": "87a6a87a-5698-4005-cadc-2b69199486dd"
      },
      "execution_count": 3,
      "outputs": [
        {
          "output_type": "stream",
          "name": "stdout",
          "text": [
            "A = 1, B = 2\n",
            "A + B = 3\n",
            "A - B = -1\n",
            "A x B = 2\n",
            "A / B = 0.5\n",
            "Akar dari A      = 1.0\n",
            "Faktorial dari A = 1\n",
            "A pangkat B      = 1\n",
            "--------------------\n",
            "A = 10, B = 5\n",
            "A / B = 2.0\n",
            "Akar dari A      = 1.0\n",
            "Faktorial dari A = 1\n",
            "A pangkat B      = 1\n"
          ]
        }
      ]
    },
    {
      "cell_type": "markdown",
      "source": [
        "![image.png](data:image/png;base64,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)"
      ],
      "metadata": {
        "id": "WTX88mfBwaZ9"
      }
    }
  ]
}
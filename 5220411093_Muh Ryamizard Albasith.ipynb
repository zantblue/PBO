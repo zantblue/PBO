{
  "nbformat": 4,
  "nbformat_minor": 0,
  "metadata": {
    "colab": {
      "provenance": []
    },
    "kernelspec": {
      "name": "python3",
      "display_name": "Python 3"
    },
    "language_info": {
      "name": "python"
    }
  },
  "cells": [
    {
      "cell_type": "code",
      "execution_count": null,
      "metadata": {
        "id": "Gxs96x1pRzqq"
      },
      "outputs": [],
      "source": [
        "# Apa itu Object Oriented Programming\n",
        "\n",
        "#   Semuanya adalah objek, seperti list,string\n",
        "#   Objek disebut Class\n",
        "#   OOP itu memungkinkan kita membuat objek sendiri, termasuk methods dan atributsnya\n",
        "\n"
      ]
    },
    {
      "cell_type": "code",
      "source": [
        "print(type(\"Saya Adalah String\"))"
      ],
      "metadata": {
        "colab": {
          "base_uri": "https://localhost:8080/"
        },
        "id": "UMLcpxkgSJdk",
        "outputId": "5ef5f4b6-9bc8-4475-8e6f-48b65ea7ef27"
      },
      "execution_count": 33,
      "outputs": [
        {
          "output_type": "stream",
          "name": "stdout",
          "text": [
            "<class 'str'>\n"
          ]
        }
      ]
    },
    {
      "cell_type": "code",
      "source": [
        "class NamaClass:\n",
        "\n",
        "  def __init__(self, nama_atribut1, nama_atribut2):\n",
        "    self.nama_atribut1 = nama_atribut1\n",
        "    self.nama_atribut2 = nama_atribut2\n",
        "\n",
        "  def nama_method(self):\n",
        "    return #tulis fungsi"
      ],
      "metadata": {
        "id": "mLXHTOw9TJeU"
      },
      "execution_count": 34,
      "outputs": []
    },
    {
      "cell_type": "code",
      "source": [
        "class Person:\n",
        "  def __init__(self, nama, umur):\n",
        "    self.nama = nama\n",
        "    self.umur = umur\n",
        "\n",
        "  def introduce(self):\n",
        "    return f\"Halo nama saya adalah {self.nama} dan umur saya {self.umur} tahun\"\n",
        "\n",
        "  #membuat objek persen dari kelas person\n",
        "person = Person(\"Mizard\", 19)\n",
        "\n",
        "  #Panggil metode introduce dan mengakses atribut person dan umur menggunakan self\n",
        "print(person.introduce())\n"
      ],
      "metadata": {
        "colab": {
          "base_uri": "https://localhost:8080/"
        },
        "id": "5YVUXBSPTuki",
        "outputId": "cdbb7da7-9022-4f1e-a39c-540d082d45be"
      },
      "execution_count": 35,
      "outputs": [
        {
          "output_type": "stream",
          "name": "stdout",
          "text": [
            "Halo nama saya adalah Mizard dan umur saya 19 tahun\n"
          ]
        }
      ]
    },
    {
      "cell_type": "code",
      "source": [
        "class Mahasiswa:\n",
        "  def __init__(self, nama, nim, jurusan):\n",
        "    self.nama = nama\n",
        "    self.nim = nim\n",
        "    self.jurusan = jurusan\n",
        "    #inisialisasi daftar nilai dengan list kosong\n",
        "    self.nilai = []\n",
        "\n",
        "  def tambah_nilai(self, matakuliah, nilai):\n",
        "    self.nilai.append((matakuliah,nilai))\n",
        "\n",
        "  def rata_rata_nilai(self):\n",
        "    total_nilai = sum(nilai for mata_kuliah, nilai in self.nilai)\n",
        "    rata_rata = total_nilai / len(self.nilai) if self.nilai else()\n",
        "    return rata_rata\n",
        "\n",
        "  def info(self):\n",
        "    print(f\"Nama    : {self.nama}\")\n",
        "    print(f\"Nim     : {self.nim}\")\n",
        "    print(f\"Jurusan : {self.jurusan}\")\n",
        "    print(f\"Rata-rata Nilai  : {self.rata_rata_nilai()}\")"
      ],
      "metadata": {
        "id": "VHiDH_P-Vl4d"
      },
      "execution_count": 38,
      "outputs": []
    },
    {
      "cell_type": "code",
      "source": [
        "mahasiswa1 = Mahasiswa(\"Mizuru\", 5220411093, \"Informatika\")\n",
        "mahasiswa1.tambah_nilai(\"APTI\", 80)\n",
        "mahasiswa1.tambah_nilai(\"Alpro\", 88)\n",
        "mahasiswa1.tambah_nilai(\"PBO\", 92)\n",
        "mahasiswa1.info()"
      ],
      "metadata": {
        "colab": {
          "base_uri": "https://localhost:8080/"
        },
        "id": "XTW4tAJeXkgb",
        "outputId": "52cb1a08-989e-495f-fc54-dadb4a81a01c"
      },
      "execution_count": 39,
      "outputs": [
        {
          "output_type": "stream",
          "name": "stdout",
          "text": [
            "Nama    : Mizuru\n",
            "Nim     : 5220411093\n",
            "Jurusan : Informatika\n",
            "Rata-rata Nilai  : 86.66666666666667\n"
          ]
        }
      ]
    },
    {
      "cell_type": "code",
      "source": [
        "class Anjing:\n",
        "    def __init__(self, nama, umur, warna):\n",
        "        self.nama = nama\n",
        "        self.umur = umur\n",
        "        self.warna = warna\n",
        "\n",
        "    def menggonggong(self):\n",
        "        print(\"guk..! guk..!\")\n",
        "\n",
        "    def info(self):\n",
        "        print(\"Nama Anjing=\" + self.nama +\",umurnya = \"+ str(self.umur)+\" tahun, warnanya = \"+str(self.warna))\n",
        "\n",
        "    def run(self):\n",
        "        print(\"cepat.. sekali..!\")"
      ],
      "metadata": {
        "id": "PNvQgDMkkWda"
      },
      "execution_count": 43,
      "outputs": []
    },
    {
      "cell_type": "code",
      "source": [
        "class Menu:\n",
        "    def __init__(self, nama, deskripsi, harga):\n",
        "        self.nama = nama\n",
        "        self.deskripsi = deskripsi\n",
        "        self.harga = harga\n",
        "        print(\"-\"*30)\n",
        "\n",
        "    def dipesan(self):\n",
        "        print(f\"Menu      : {self.nama} telah dipesan\")\n",
        "        print(f\"Deskripsi : {self.deskripsi}\")\n",
        "        print(f\"Harga     : {self.harga}\")\n",
        "\n",
        "menu1 = Menu(\"Nasi goreng\",\"Nasi digoreng dengan telor dan bumbu\", 10000)\n",
        "menu1.dipesan()\n",
        "menu2 = Menu(\"Mie ayam\",\"Mie dengan potongan ayam dan pangsit\", 8000)\n",
        "menu2.dipesan()\n",
        "print(\"=\"*30)"
      ],
      "metadata": {
        "colab": {
          "base_uri": "https://localhost:8080/"
        },
        "id": "a7A5_P1skZKD",
        "outputId": "db8e1bff-8d01-4088-b05d-8ccca0fdffb2"
      },
      "execution_count": 41,
      "outputs": [
        {
          "output_type": "stream",
          "name": "stdout",
          "text": [
            "------------------------------\n",
            "Menu      : Nasi goreng telah dipesan\n",
            "Deskripsi : Nasi digoreng dengan telor dan bumbu\n",
            "Harga     : 10000\n",
            "------------------------------\n",
            "Menu      : Mie ayam telah dipesan\n",
            "Deskripsi : Mie dengan potongan ayam dan pangsit\n",
            "Harga     : 8000\n",
            "==============================\n"
          ]
        }
      ]
    },
    {
      "cell_type": "code",
      "source": [
        "class Buku:\n",
        "    def __init__(self, judul, pengarang, tahunTerbit):\n",
        "        self.judul = judul\n",
        "        self.pengarang = pengarang\n",
        "        self.tahunTerbit = tahunTerbit\n",
        "\n",
        "    def dipinjam(self):\n",
        "        print(f\"Judul        : {self.judul}\")\n",
        "        print(f\"Pengarang    : {self.pengarang}\")\n",
        "        print(f\"Tahun Terbit : {self.tahunTerbit}\")\n",
        "        print(\"Saya Pinjam Buku ini \")\n",
        "        print(\"-\"*30)\n",
        "\n",
        "    def dikembalikan(self):\n",
        "        print(f\"Judul        : {self.judul}\")\n",
        "        print(f\"Pengarang    : {self.pengarang}\")\n",
        "        print(f\"Tahun Terbit : {self.tahunTerbit}\")\n",
        "        print(\"Saya kembalikan Buku ini \")\n",
        "\n",
        "\n",
        "buku1 = Buku(\"Laskar Pelangi\",\"Adrea Hirata\", 2005)\n",
        "buku1.dipinjam()\n",
        "buku2 = Buku(\"langit\",\"Tere Liye\", 2013)\n",
        "buku2.dikembalikan()\n",
        "\n",
        "print(\"=\"*30)"
      ],
      "metadata": {
        "colab": {
          "base_uri": "https://localhost:8080/"
        },
        "id": "cls0ZNpYkZeT",
        "outputId": "53387a92-075f-4bd1-b949-3d8b44e9e2a6"
      },
      "execution_count": 40,
      "outputs": [
        {
          "output_type": "stream",
          "name": "stdout",
          "text": [
            "Judul        : Laskar Pelangi\n",
            "Pengarang    : Adrea Hirata\n",
            "Tahun Terbit : 2005\n",
            "Saya Pinjam Buku ini \n",
            "------------------------------\n",
            "Judul        : langit\n",
            "Pengarang    : Tere Liye\n",
            "Tahun Terbit : 2013\n",
            "Saya kembalikan Buku ini \n",
            "==============================\n"
          ]
        }
      ]
    },
    {
      "cell_type": "code",
      "source": [
        "class Garis:\n",
        "    def __init__(self, x, y):\n",
        "        self.x = x\n",
        "        self.y = y\n",
        "\n",
        "    def rotasi(self):\n",
        "        print(f\"Sumbu x berputar ke sumbu y = {self.y}\")\n",
        "\n",
        "    def translasi(self):\n",
        "        print(f\"Sumbu y bertranslasi ke sumbu x = {self.x}\")\n",
        "\n",
        "garis1 = Garis(10,22)\n",
        "garis1.rotasi()\n",
        "garis1.translasi()\n",
        "print(\"=\"*30)"
      ],
      "metadata": {
        "colab": {
          "base_uri": "https://localhost:8080/"
        },
        "id": "e8Gxmr1bkftr",
        "outputId": "dd9fdd18-53d7-4c6e-a4af-69b8ef0f4414"
      },
      "execution_count": 44,
      "outputs": [
        {
          "output_type": "stream",
          "name": "stdout",
          "text": [
            "Sumbu x berputar ke sumbu y = 22\n",
            "Sumbu y bertranslasi ke sumbu x = 10\n",
            "==============================\n"
          ]
        }
      ]
    },
    {
      "cell_type": "code",
      "source": [
        "class Pelajar:\n",
        "    def __init__(self, NoInduk, nama, gender, tempatLahir, tanggalLahir):\n",
        "        self.nama = nama\n",
        "        self.NoInduk = NoInduk\n",
        "        self.gender = gender\n",
        "        self.tempatLahir = tempatLahir\n",
        "        self.tanggalLahir = tanggalLahir\n",
        "\n",
        "    def lulus(self):\n",
        "        print(f\"Selamat atas Kelulusannya {self.nama} dengan NoInduk {self.NoInduk} , seorang{self.gender} yang lahir di {self.tempatLahir} pada tanggal {self.tanggalLahir}\")\n",
        "        print(\"-\"*30)\n",
        "\n",
        "    def naikKelas(self):\n",
        "        print(f\"Selamat untuk {self.nama} dengan NoInduk {self.NoInduk} yang telah naik Kelas, seorang{self.gender} yang lahir di {self.tempatLahir} pada tanggal {self.tanggalLahir}\")\n",
        "        print(\"-\"*30)\n",
        "\n",
        "    def bayarSPP(self):\n",
        "        print(f\"Mohon Maaf teruntuk {self.nama} dengan NoInduk {self.NoInduk} , seorang{self.gender} yang lahir di {self.tempatLahir} pada tanggal {self.tanggalLahir}  kamu belum Bayar SPP, dimohon untuk Segera membayar\")\n",
        "\n",
        "pelajar1 = Pelajar(\"Budi\", 1021 , \"Laki-laki\", \"Sleman\", \"10 Januari\")\n",
        "pelajar1.lulus()\n",
        "pelajar2 = Pelajar(\"Ani\", 1232 , \"Perempuan\", \"Mlati\", \"20 Maret\")\n",
        "pelajar1.naikKelas()\n",
        "pelajar3 = Pelajar(\"Junet\", 1360 , \"Laki-laki\", \"Jombor\", \"7 Mei\")\n",
        "pelajar1.bayarSPP()\n"
      ],
      "metadata": {
        "colab": {
          "base_uri": "https://localhost:8080/"
        },
        "id": "ZOW81OQZlsBc",
        "outputId": "0c87859e-1040-4a85-bfc7-62a1dd33c82b"
      },
      "execution_count": 45,
      "outputs": [
        {
          "output_type": "stream",
          "name": "stdout",
          "text": [
            "Selamat atas Kelulusannya 1021 dengan NoInduk Budi , seorangLaki-laki yang lahir di Sleman pada tanggal 10 Januari\n",
            "------------------------------\n",
            "Selamat untuk 1021 dengan NoInduk Budi yang telah naik Kelas, seorangLaki-laki yang lahir di Sleman pada tanggal 10 Januari\n",
            "------------------------------\n",
            "Mohon Maaf teruntuk 1021 dengan NoInduk Budi , seorangLaki-laki yang lahir di Sleman pada tanggal 10 Januari  kamu belum Bayar SPP, dimohon untuk Segera membayar\n",
            "------------------------------\n",
            "==============================\n"
          ]
        }
      ]
    }
  ]
}
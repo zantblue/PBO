{
  "nbformat": 4,
  "nbformat_minor": 0,
  "metadata": {
    "colab": {
      "provenance": [],
      "authorship_tag": "ABX9TyOYpYKsL4GCzIdv9oM+IeoD",
      "include_colab_link": true
    },
    "kernelspec": {
      "name": "python3",
      "display_name": "Python 3"
    },
    "language_info": {
      "name": "python"
    }
  },
  "cells": [
    {
      "cell_type": "markdown",
      "metadata": {
        "id": "view-in-github",
        "colab_type": "text"
      },
      "source": [
        "<a href=\"https://colab.research.google.com/github/zantblue/PBO/blob/main/Pert5.ipynb\" target=\"_parent\"><img src=\"https://colab.research.google.com/assets/colab-badge.svg\" alt=\"Open In Colab\"/></a>"
      ]
    },
    {
      "cell_type": "code",
      "execution_count": 23,
      "metadata": {
        "colab": {
          "base_uri": "https://localhost:8080/"
        },
        "id": "q0TUxoReXMYU",
        "outputId": "61d2ba2c-0cb4-4c85-d62e-ac6bb6dda969"
      },
      "outputs": [
        {
          "output_type": "stream",
          "name": "stdout",
          "text": [
            "Mobil 1\n",
            "Merk  : Toyota tahun 2020\n",
            "Warna : Hitam\n",
            "Mobil 2\n",
            "Merk  : Honda tahun 2019\n",
            "Warna : Putih\n",
            "===================================\n",
            "Mobil Toyota tahun 2020, warna Hitam\n",
            "Mobil Honda tahun 2019, warna Putih\n"
          ]
        }
      ],
      "source": [
        "class Mobil:\n",
        "    def __init__(self, merk, tahun, warna):\n",
        "        self.merk = merk\n",
        "        self.tahun = tahun\n",
        "        self.warna = warna\n",
        "\n",
        "    def info(self):\n",
        "        print(f\"Mobil {self.merk} tahun {self.tahun}, warna {self.warna}\")\n",
        "\n",
        "mobil1 = Mobil(\"Toyota\", 2020, \"Hitam\")\n",
        "mobil2 = Mobil(\"Honda\", 2019, \"Putih\")\n",
        "\n",
        "print(f\"Mobil 1\\nMerk  : {mobil1.merk} tahun {mobil1.tahun}\\nWarna : {mobil1.warna}\")\n",
        "print(f\"Mobil 2\\nMerk  : {mobil2.merk} tahun {mobil2.tahun}\\nWarna : {mobil2.warna}\")\n",
        "print(\"=\"*35)\n",
        "\n",
        "mobil1.info()\n",
        "mobil2.info()\n"
      ]
    },
    {
      "cell_type": "code",
      "source": [
        "class Elektronik:\n",
        "    def __init__(self, merek, harga, stok):\n",
        "        self.merek = merek\n",
        "        self.harga = harga\n",
        "        self.stok = stok\n",
        "\n",
        "    def tambah_stok(self, jumlah):\n",
        "        self.stok += jumlah\n",
        "\n",
        "class Ponsel(Elektronik):\n",
        "    def __init__(self, merek, harga, stok, ukuran_layar):\n",
        "        super().__init__(merek, harga, stok)\n",
        "        self.ukuran_layar = ukuran_layar\n",
        "\n",
        "class Laptop(Elektronik):\n",
        "    def __init__(self, merek, harga, stok, ram, kapasitas_penyimpanan):\n",
        "        super().__init__(merek, harga, stok)\n",
        "        self.ram = ram\n",
        "        self.kapasitas_penyimpanan = kapasitas_penyimpanan\n",
        "\n",
        "    def tambah_ram(self, jumlah):\n",
        "        if self.ram + jumlah <= 16:  # Batas maksimum RAM adalah 16 GB\n",
        "            self.ram += jumlah\n",
        "        else:\n",
        "            print(\"Penambahan RAM melebihi batas maksimum!\")\n",
        "\n",
        "# Contoh Penggunaan\n",
        "ponsel = Ponsel(\"Asus ROG\", 15000000, 10, 6)\n",
        "laptop = Laptop(\"Acer\", 7000000, 5, 8, 512)\n",
        "\n",
        "ponsel.tambah_stok(3)\n",
        "laptop.tambah_ram(4)\n",
        "laptop.tambah_ram(10)  # Mencoba melebihi batas maksimum\n",
        "\n",
        "print(f\"Informasi Ponsel:\\nMerek : {ponsel.merek}\\nHarga : {ponsel.harga}\\nStok  : {ponsel.stok}\\nUkuran Layar : {ponsel.ukuran_layar}\")\n",
        "print(\"=\"*20)\n",
        "print(f\"Informasi Laptop:\\nMerek : {laptop.merek}\\nHarga : {laptop.harga}\\nStok  : {laptop.stok}\\nRAM   : {laptop.ram} GB\\nKapasitas Penyimpanan : {laptop.kapasitas_penyimpanan} GB\")"
      ],
      "metadata": {
        "colab": {
          "base_uri": "https://localhost:8080/",
          "height": 0
        },
        "id": "Li8i3DpSpEO2",
        "outputId": "b40dd24e-8e34-4293-99be-42db30226175"
      },
      "execution_count": 18,
      "outputs": [
        {
          "output_type": "stream",
          "name": "stdout",
          "text": [
            "Penambahan RAM melebihi batas maksimum!\n",
            "Informasi Ponsel:\n",
            "Merek : Asus ROG\n",
            "Harga : 15000000\n",
            "Stok  : 13\n",
            "Ukuran Layar : 6\n",
            "====================\n",
            "Informasi Laptop:\n",
            "Merek : Acer\n",
            "Harga : 7000000\n",
            "Stok  : 5\n",
            "RAM   : 12 GB\n",
            "Kapasitas Penyimpanan : 512 GB\n"
          ]
        }
      ]
    },
    {
      "cell_type": "code",
      "source": [
        "class Karyawan:\n",
        "    def __init__(self, nama, id_karyawan, gaji):\n",
        "        self.nama = nama\n",
        "        self.id_karyawan = id_karyawan\n",
        "        self.gaji = gaji\n",
        "\n",
        "    def __str__(self):\n",
        "        return f\"Karyawan(nama='{self.nama}', id_karyawan={self.id_karyawan}, gaji={self.gaji})\"\n",
        "\n",
        "class Manager(Karyawan):\n",
        "    def __init__(self, nama, id_karyawan, gaji, jumlah_bawahan):\n",
        "        super().__init__(nama, id_karyawan, gaji)\n",
        "        self.jumlah_bawahan = jumlah_bawahan\n",
        "\n",
        "    def tambah_bawahan(self, jumlah):\n",
        "        self.jumlah_bawahan += jumlah\n",
        "\n",
        "    def __str__(self):\n",
        "        return f\"Manajer(nama='{self.nama}', id_karyawan={self.id_karyawan}, gaji={self.gaji}, jumlah_bawahan={self.jumlah_bawahan})\"\n",
        "\n",
        "class Pekerja(Karyawan):\n",
        "    def __init__(self, nama, id_karyawan, gaji, produktivitas):\n",
        "        super().__init__(nama, id_karyawan, gaji)\n",
        "        self.produktivitas = produktivitas\n",
        "\n",
        "    def evaluasi(self, produktivitas):\n",
        "        if produktivitas >= 7:\n",
        "            self.gaji += 100000\n",
        "        elif produktivitas <= 3:\n",
        "            self.gaji -= 50000\n",
        "        return self.gaji\n",
        "\n",
        "manager = Manager(\"Vettel\",\"P-01\",5000000,11)\n",
        "pekerja = Pekerja(\"Hamilton\",\"P-02\",2000000,24)\n",
        "\n",
        "manager.tambah_bawahan(2)\n",
        "\n",
        "\n",
        "\n",
        "print(f'ID   : {manager.id_karyawan}\\nNama : {manager.nama}\\nGaji : {manager.gaji}\\nJumlah Bawahan :{manager.jumlah_bawahan} ')\n",
        "print(\"-\"*20)\n",
        "print(f'ID   : {pekerja.id_karyawan}\\nNama : {pekerja.nama}\\nGaji : {pekerja.gaji}\\nProduktivitas :{pekerja.evaluasi(9)} ')\n",
        "\n"
      ],
      "metadata": {
        "colab": {
          "base_uri": "https://localhost:8080/",
          "height": 0
        },
        "id": "FqH1pWDZpEUr",
        "outputId": "03ee0826-472e-4e01-eacb-d59f413a71b0"
      },
      "execution_count": 19,
      "outputs": [
        {
          "output_type": "stream",
          "name": "stdout",
          "text": [
            "ID   : P-01\n",
            "Nama : Vettel\n",
            "Gaji : 5000000\n",
            "Jumlah Bawahan :13 \n",
            "--------------------\n",
            "ID   : P-02\n",
            "Nama : Hamilton\n",
            "Gaji : 2000000\n",
            "Produktivitas :2100000 \n"
          ]
        }
      ]
    }
  ]
}
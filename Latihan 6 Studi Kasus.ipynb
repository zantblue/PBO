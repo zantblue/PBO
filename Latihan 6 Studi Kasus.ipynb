{
  "nbformat": 4,
  "nbformat_minor": 0,
  "metadata": {
    "colab": {
      "provenance": [],
      "authorship_tag": "ABX9TyPWSMOAtthF9if6pCzCcQGF",
      "include_colab_link": true
    },
    "kernelspec": {
      "name": "python3",
      "display_name": "Python 3"
    },
    "language_info": {
      "name": "python"
    }
  },
  "cells": [
    {
      "cell_type": "markdown",
      "metadata": {
        "id": "view-in-github",
        "colab_type": "text"
      },
      "source": [
        "<a href=\"https://colab.research.google.com/github/zantblue/PBO/blob/main/Latihan%206%20Studi%20Kasus.ipynb\" target=\"_parent\"><img src=\"https://colab.research.google.com/assets/colab-badge.svg\" alt=\"Open In Colab\"/></a>"
      ]
    },
    {
      "cell_type": "markdown",
      "source": [
        "Muh Ryamizard Albasith\n",
        "5220411093"
      ],
      "metadata": {
        "id": "r3fxzCmCOKPJ"
      }
    },
    {
      "cell_type": "markdown",
      "source": [
        "![image.png](data:image/png;base64,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)"
      ],
      "metadata": {
        "id": "hw9GSP9R6A77"
      }
    },
    {
      "cell_type": "code",
      "execution_count": 30,
      "metadata": {
        "id": "a89LhwNtr5_e"
      },
      "outputs": [],
      "source": [
        "class PerpusItem:\n",
        "    def __init__(self, judul, subjek):\n",
        "        self.judul = judul\n",
        "        self.subjek = subjek\n",
        "        self.data = []\n",
        "\n",
        "    def LokasiPenyimpanan(self):\n",
        "        print(\"Lokasi Penyimpanan : \" + self.subjek)\n",
        "\n",
        "    def info(self):\n",
        "        print(\"Judul          : \" + self.judul)\n",
        "        print(\"Subjek         : \" + self.subjek)\n",
        "\n",
        "class Buku(PerpusItem):\n",
        "    def __init__(self, judul, ISBN, Pengarang, jmlHal, ukuran):\n",
        "        super().__init__(judul, \"Novel\")\n",
        "        self.ISBN = ISBN\n",
        "        self.Pengarang = Pengarang\n",
        "        self.jmlHal = jmlHal\n",
        "        self.ukuran = ukuran\n",
        "\n",
        "    def info(self):\n",
        "        super().info()\n",
        "        print(\"ISBN           : \" + self.ISBN)\n",
        "        print(\"Pengarang      : \" + self.Pengarang)\n",
        "        print(\"Jumlah Halaman : \" + str(self.jmlHal))\n",
        "        print(\"Ukuran         : \" + self.ukuran)\n",
        "        print(\"=\"*39)\n",
        "\n",
        "class Majalah(PerpusItem):\n",
        "    def __init__(self, judul, volume, issue):\n",
        "        super().__init__(judul, \"Majalah\")\n",
        "        self.volume = volume\n",
        "        self.issue = issue\n",
        "\n",
        "    def info(self):\n",
        "        super().info()\n",
        "        print(\"Volume         : \" + str(self.volume))\n",
        "        print(\"Issue          : \" + str(self.issue))\n",
        "\n",
        "class DVD(PerpusItem):\n",
        "    def __init__(self, judul, Aktor, Genre):\n",
        "        super().__init__(judul, \"DVD\")\n",
        "        self.Aktor = Aktor\n",
        "        self.Genre = Genre\n",
        "\n",
        "    def info(self):\n",
        "        super().info()\n",
        "        print(\"Aktor          : \" + self.Aktor)\n",
        "        print(\"Genre          : \" + self.Genre)"
      ]
    },
    {
      "cell_type": "code",
      "source": [
        "class Katalog:\n",
        "    def __init__(self):\n",
        "        self.perpus_item_list = []\n",
        "\n",
        "    def tambah_perpus_item(self, perpus_item):\n",
        "        self.perpus_item_list.append(perpus_item)\n",
        "\n",
        "    def cari(self, judul):\n",
        "        found_items = []\n",
        "        for item in self.perpus_item_list:\n",
        "            if item.judul == judul:\n",
        "                found_items.append(item)\n",
        "        return found_items"
      ],
      "metadata": {
        "id": "STXCcizAMjvu"
      },
      "execution_count": 31,
      "outputs": []
    },
    {
      "cell_type": "code",
      "source": [
        "katalog = Katalog()\n",
        "\n",
        "buku = Buku(\"Laskar Pelangi\", \"979-3062-79-7\", \"Andrea Hirata\", 264, \"x, 534p. ;21 cm ;21 cm\")\n",
        "majalah = Majalah(\"Bobo\", \"16\", \"Perkembangan Anak\")\n",
        "dvd = DVD(\"Pengabdi Setan\", \"Rudi Tabuti\", \"Horror\")\n",
        "\n",
        "katalog.tambah_perpus_item(buku)\n",
        "katalog.tambah_perpus_item(majalah)\n",
        "katalog.tambah_perpus_item(dvd)\n",
        "\n",
        "# Mencari Judul\n",
        "#cariJudul = \"Bobo\"\n",
        "cariJudul = \"Laskar Pelangi\"\n",
        "# cariJudul = \"Pengabdi Setan\"\n",
        "\n",
        "hasilCari = katalog.cari(cariJudul)\n",
        "\n",
        "if hasilCari:\n",
        "    print(f\"Hasil pencarian untuk judul {cariJudul}:\")\n",
        "    print(\"-\"*38)\n",
        "    for item in hasilCari:\n",
        "        item.info()\n",
        "else:\n",
        "    print(f\"Tidak ditemukan item dengan judul {cariJudul} di katalog.\")\n",
        ""
      ],
      "metadata": {
        "colab": {
          "base_uri": "https://localhost:8080/",
          "height": 0
        },
        "id": "RtlZrb-oMr_j",
        "outputId": "fee490b1-1ac4-40c6-cb0a-05984972c058"
      },
      "execution_count": 32,
      "outputs": [
        {
          "output_type": "stream",
          "name": "stdout",
          "text": [
            "Hasil pencarian untuk judul Laskar Pelangi:\n",
            "--------------------------------------\n",
            "Judul          : Laskar Pelangi\n",
            "Subjek         : Novel\n",
            "ISBN           : 979-3062-79-7\n",
            "Pengarang      : Andrea Hirata\n",
            "Jumlah Halaman : 264\n",
            "Ukuran         : x, 534p. ;21 cm ;21 cm\n",
            "=======================================\n"
          ]
        }
      ]
    },
    {
      "cell_type": "code",
      "source": [
        "class Pengarang:\n",
        "    def __init__(self, nama, aktif, karya):\n",
        "        self.nama = nama\n",
        "        self.aktif = aktif\n",
        "        self.karya = karya\n",
        "\n",
        "    def info(self):\n",
        "        print(\"Informasi Pengarang:\")\n",
        "        print(\"Nama   : \" + self.nama)\n",
        "        print(\"Aktif membuat Buka sejak \" + str(self.aktif))\n",
        "        print(\"Total karya yang telah dibuat sebanyak \" + self.karya)\n",
        "\n",
        "    @staticmethod\n",
        "    def cari(pengarang_list, nama_pengarang):\n",
        "        found_pengarang = None\n",
        "        for pengarang in pengarang_list:\n",
        "            if pengarang.nama == nama_pengarang:\n",
        "                found_pengarang = pengarang\n",
        "                break\n",
        "        return found_pengarang\n",
        "        # Info Pengarang\n",
        "print(\"-\"*30)\n",
        "andrea = Pengarang(\"Andrea Hirata\", 2005, \"12 buku\")\n",
        "#pengarang_andrea.info()\n",
        "daftar_pengarang = [andrea]\n",
        "\n",
        "# Mencarii Pengarang\n",
        "nama_pengarang_cari = \"Andrea Hirata\"\n",
        "pengarang_hasil_cari = Pengarang.cari(daftar_pengarang, nama_pengarang_cari)\n",
        "\n",
        "if pengarang_hasil_cari:\n",
        "    print(f\"\\nPengarang dengan nama {nama_pengarang_cari} ditemukan:\")\n",
        "    pengarang_hasil_cari.info()\n",
        "else:\n",
        "    print(f\"\\nPengarang dengan nama {nama_pengarang_cari} tidak ditemukan.\")"
      ],
      "metadata": {
        "colab": {
          "base_uri": "https://localhost:8080/",
          "height": 0
        },
        "id": "bW9t8K2aMsBy",
        "outputId": "17187603-8670-4f34-c357-7c5ad7ee39cd"
      },
      "execution_count": 33,
      "outputs": [
        {
          "output_type": "stream",
          "name": "stdout",
          "text": [
            "------------------------------\n",
            "\n",
            "Pengarang dengan nama Andrea Hirata ditemukan:\n",
            "Informasi Pengarang:\n",
            "Nama   : Andrea Hirata\n",
            "Aktif membuat Buka sejak 2005\n",
            "Total karya yang telah dibuat sebanyak 12 buku\n"
          ]
        }
      ]
    }
  ]
}
{
  "nbformat": 4,
  "nbformat_minor": 0,
  "metadata": {
    "colab": {
      "provenance": [],
      "authorship_tag": "ABX9TyMtFkXqTorfOkjN9TY8K6Qw",
      "include_colab_link": true
    },
    "kernelspec": {
      "name": "python3",
      "display_name": "Python 3"
    },
    "language_info": {
      "name": "python"
    }
  },
  "cells": [
    {
      "cell_type": "markdown",
      "metadata": {
        "id": "view-in-github",
        "colab_type": "text"
      },
      "source": [
        "<a href=\"https://colab.research.google.com/github/zantblue/PBO/blob/main/Tugas%20Pertemuan%209.ipynb\" target=\"_parent\"><img src=\"https://colab.research.google.com/assets/colab-badge.svg\" alt=\"Open In Colab\"/></a>"
      ]
    },
    {
      "cell_type": "code",
      "execution_count": 12,
      "metadata": {
        "colab": {
          "base_uri": "https://localhost:8080/"
        },
        "id": "fzvUGpuH7pil",
        "outputId": "541574b3-d415-4386-e4a8-413928bfb659"
      },
      "outputs": [
        {
          "output_type": "stream",
          "name": "stdout",
          "text": [
            "Hasil Pertama : 8\n",
            "Hasil Kedua   : 15\n"
          ]
        }
      ],
      "source": [
        "class kalkulator:\n",
        "    def tambah(self, x, y, z=None):\n",
        "        if z is not None:\n",
        "            return x + y + z\n",
        "        else:\n",
        "            return x + y\n",
        "\n",
        "\n",
        "kalkulator = kalkulator()\n",
        "hasil1 = kalkulator.tambah(3, 5)\n",
        "hasil2 = kalkulator.tambah(3, 5, 7)\n",
        "\n",
        "print(f\"Hasil Pertama : {hasil1}\")\n",
        "print(f\"Hasil Kedua   : {hasil2}\")"
      ]
    },
    {
      "cell_type": "code",
      "source": [
        "###  Auuuuuuhhh  ###\n",
        "class binatang:\n",
        "    def bersuara(self):\n",
        "        return \"Pinjam dulu seratus\"\n",
        "\n",
        "class Kucing(binatang):\n",
        "    def bersuara(self):\n",
        "        return \"Meow\"\n",
        "\n",
        "class Anjing(binatang):\n",
        "    def bersuara(self):\n",
        "        return \"Wouf\"\n",
        "\n",
        "Binatang = binatang()\n",
        "kucing = Kucing()\n",
        "anjing = Anjing()\n",
        "\n",
        "suara_binatang = Binatang.bersuara()\n",
        "suara_kucing = kucing.bersuara()\n",
        "suara_anjing = anjing.bersuara()\n",
        "\n",
        "print(f\"Suara Binatang : {suara_binatang}\")\n",
        "print(f\"Suara Kucing   : {suara_kucing}\")\n",
        "print(f\"Suara Anjing   : {suara_anjing}\")"
      ],
      "metadata": {
        "colab": {
          "base_uri": "https://localhost:8080/"
        },
        "id": "BYUyuhdQ7012",
        "outputId": "78ca4d36-a421-44f1-9a20-c01439750e7b"
      },
      "execution_count": 13,
      "outputs": [
        {
          "output_type": "stream",
          "name": "stdout",
          "text": [
            "Suara Binatang : Pinjam dulu seratus\n",
            "Suara Kucing   : Meow\n",
            "Suara Anjing   : Wouf\n"
          ]
        }
      ]
    },
    {
      "cell_type": "code",
      "source": [
        "class Manusia:\n",
        "    def __init__(self, nama, usia, jenis_kelamin):\n",
        "        self.nama = nama\n",
        "        self.usia = usia\n",
        "        self.jenis_kelamin = jenis_kelamin\n",
        "\n",
        "    def info(self, detail=False):\n",
        "        if detail:\n",
        "            return f\"Nama : {self.nama}\\nUsia : {self.usia}\\nJenis Kelamin: {self.jenis_kelamin}\"\n",
        "        else:\n",
        "            return f\"Nama : {self.nama}\"\n",
        "\n",
        "class Mahasiswa(Manusia):\n",
        "    def __init__(self, nama, usia, jenis_kelamin, nim, jurusan):\n",
        "        super().__init__(nama, usia, jenis_kelamin)\n",
        "        self.nim = nim\n",
        "        self.jurusan = jurusan\n",
        "        self.nilai = {}\n",
        "\n",
        "    def info(self, detail=False):\n",
        "        info_mahasiswa = f\"{super().info()}, NIM : {self.nim}, Jurusan : {self.jurusan}\"\n",
        "        if detail:\n",
        "            info_mahasiswa +=   f\", Nilai : {self.nilai}\"\n",
        "        return  info_mahasiswa\n",
        "\n",
        "    def tambah_nilai(self, mata_kuliah, nilai, bobot=None):\n",
        "        if bobot is not None:\n",
        "            nilai_bobot = nilai * bobot\n",
        "            self.nilai[mata_kuliah] = {\"nilai\": nilai, \"bobot\": bobot, \"nilai_bobot\": nilai_bobot}\n",
        "        else:\n",
        "            self.nilai[mata_kuliah] = nilai\n",
        ""
      ],
      "metadata": {
        "id": "eiqw23tW7thO"
      },
      "execution_count": 14,
      "outputs": []
    },
    {
      "cell_type": "code",
      "source": [
        "orang1 = Manusia(\"Alis\",25,\"Perempuan\")\n",
        "mahasiswa1 = Mahasiswa(\"Budi\", 20, \"Laki-laki\", \"123456\", \"Informatika\")\n",
        "\n",
        "print(\"Info Manusia doang sih : \")\n",
        "print(orang1.info)\n",
        "print(\"\\nInfo Manusia doang sih : \")\n",
        "print(orang1.info(detail=True))\n",
        "\n",
        "mahasiswa1 = Mahasiswa(\"Budi\", 20, \"Laki-laki\", \"123456\", \"Informatika\")\n",
        "mahasiswa1.tambah_nilai(\"Matematika\", 90)\n",
        "mahasiswa1.tambah_nilai(\"Fisika\", 85, bobot=0.5)\n",
        "\n",
        "print(\"\\nInfo Mahasiswa : \")\n",
        "print(mahasiswa1.info())\n",
        "\n",
        "print(\"\\nNilai Mahasiswa : \")\n",
        "for mata_kuliah, nilai in mahasiswa1.nilai.items():\n",
        "    if isinstance(nilai, dict):\n",
        "        print(f\"Mata Kuliah : {mata_kuliah}, Nilai : {nilai['nilai']}, Bobot = {nilai['bobot']}, Nilai Bobot {nilai['nilai_bobot']}\")\n",
        "    else:\n",
        "        print(f\"{mata_kuliah}: {nilai}\")"
      ],
      "metadata": {
        "colab": {
          "base_uri": "https://localhost:8080/"
        },
        "id": "9FaEPfZv77Nu",
        "outputId": "3d11b19b-b0c0-4b98-d5e8-d00ca7b7d66f"
      },
      "execution_count": 15,
      "outputs": [
        {
          "output_type": "stream",
          "name": "stdout",
          "text": [
            "Info Manusia doang sih : \n",
            "<bound method Manusia.info of <__main__.Manusia object at 0x7ed011f31b70>>\n",
            "\n",
            "Info Manusia doang sih : \n",
            "Nama : Alis\n",
            "Usia : 25\n",
            "Jenis Kelamin: Perempuan\n",
            "\n",
            "Info Mahasiswa : \n",
            "Nama : Budi, NIM : 123456, Jurusan : Informatika\n",
            "\n",
            "Nilai Mahasiswa : \n",
            "Matematika: 90\n",
            "Mata Kuliah : Fisika, Nilai : 85, Bobot = 0.5, Nilai Bobot 42.5\n"
          ]
        }
      ]
    },
    {
      "cell_type": "markdown",
      "source": [
        "![image.png](data:image/png;base64,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)"
      ],
      "metadata": {
        "id": "WREPxUv883c-"
      }
    },
    {
      "cell_type": "code",
      "source": [
        "class Komputer(object):\n",
        "    def __init__(self, nama, pabrik, harga, jenis):\n",
        "        self.nama = nama\n",
        "        self.pabrik = pabrik\n",
        "        self.harga = harga\n",
        "        self.jenis = jenis\n",
        "\n",
        "    def Info(self, detail=False):\n",
        "      if detail:\n",
        "        print(\"Nama      : \" + self.nama)\n",
        "        print(\"Pabrik    : \" + self.pabrik)\n",
        "        print(\"Harga     : Rp. \" + str(self.harga))\n",
        "        print(\"Jenis     : \" + self.jenis)\n",
        "\n",
        "\n",
        "class Processor(Komputer):\n",
        "    def __init__(\n",
        "        self, nama, pabrik, core, model, generasi, frekuensi, memory, harga, jenis):\n",
        "        self.core = core\n",
        "        self.model = model\n",
        "        self.generasi = generasi\n",
        "        self.frekuensi = frekuensi\n",
        "        self.memory = memory\n",
        "        super().__init__(nama, pabrik, harga, jenis)\n",
        "\n",
        "    def InfoProcessor(self, detail=False):\n",
        "        print(\"---- INFORMASI Processor ---- \")\n",
        "        self.Info()\n",
        "        if detail:\n",
        "          print(\"Core      : \" + str(self.core))\n",
        "          print(\"Model     : \" + self.model)\n",
        "          print(\"Generasi  : \" + self.generasi)\n",
        "          print(\"Frekuensi : \" + self.frekuensi)\n",
        "          print(\"Memory    : \" + self.memory)\n",
        "\n",
        "class RAM(Komputer):\n",
        "    def __init__(self, nama, pabrik, kapasitas, speed, chip, tegangan, harga, jenis):\n",
        "        self.kapasitas = kapasitas\n",
        "        self.speed = speed\n",
        "        self.chip = chip\n",
        "        self.tegangan = tegangan\n",
        "        super().__init__(nama, pabrik, harga, jenis)\n",
        "\n",
        "    def InfoRAM(self, detail=False):\n",
        "        print(\"---- INFORMASI RAM ---- \")\n",
        "        self.Info()\n",
        "        if detail:\n",
        "          print(\"Kapasitas : \" + str(self.kapasitas))\n",
        "          print(\"Speed     : \" + str(self.speed))\n",
        "          print(\"Chip      : \" + self.chip)\n",
        "          print(\"Tegangan  : \" + self.tegangan)\n",
        "\n",
        "class Hardisk(Komputer):\n",
        "    def __init__(self, nama, pabrik, interface, kapasitas, kesehatan, harga, jenis):\n",
        "        self.kapasitas = kapasitas\n",
        "        self.interface = interface\n",
        "        self.kesehatan = kesehatan\n",
        "        super().__init__(nama, pabrik, harga, jenis)\n",
        "\n",
        "    def InfoHardisk(self , detail=False):\n",
        "        print(\"---- INFORMASI Hardisk ---- \")\n",
        "        self.Info()\n",
        "        if detail:\n",
        "          print(\"Kapasitas : \" + self.kapasitas)\n",
        "          print(\"Interface : \" + self.interface)\n",
        "          print(\"Kesehatan : \" + self.kesehatan)"
      ],
      "metadata": {
        "id": "XjqtR3HQ8X81"
      },
      "execution_count": 16,
      "outputs": []
    },
    {
      "cell_type": "code",
      "source": [
        "processor = Processor(\n",
        "    \"Intel Core i3\",\n",
        "    \"Intel\",\n",
        "    4,\n",
        "    \"i3-10105F\",\n",
        "    \"10th Generation\",\n",
        "    \"3.60 GHz\",\n",
        "    \"DDR4-2666\",\n",
        "    9000000,\n",
        "    \"Dekstop\",\n",
        ")\n",
        "processor.InfoProcessor()\n",
        "print(\"=\" * 45)\n",
        "\n",
        "ram = RAM(\n",
        "    \"NOX DDR4 PC2500\",\n",
        "    \"Samsung\",\n",
        "    16,\n",
        "    4800,\n",
        "    \"Samsung\",\n",
        "    \"1.25 V\",\n",
        "    800000,\n",
        "    \"Dekstop\"\n",
        ")\n",
        "ram.InfoRAM()\n",
        "print(\"=\" * 45)\n",
        "\n",
        "hardisk = Hardisk(\n",
        "    \"Baracuda Sata\",\n",
        "    \"Samsung\",\n",
        "    \"1TB\",\n",
        "    \"sata\",\n",
        "    \"80%\",\n",
        "    700000,\n",
        "    \"Dekstop\"\n",
        ")\n",
        "hardisk.InfoHardisk()\n",
        "print(\"=\" * 45)"
      ],
      "metadata": {
        "colab": {
          "base_uri": "https://localhost:8080/"
        },
        "id": "3LnzmO-V9bn2",
        "outputId": "b024a8dd-573f-49c6-e010-3487e3de21eb"
      },
      "execution_count": 17,
      "outputs": [
        {
          "output_type": "stream",
          "name": "stdout",
          "text": [
            "---- INFORMASI Processor ---- \n",
            "=============================================\n",
            "---- INFORMASI RAM ---- \n",
            "=============================================\n",
            "---- INFORMASI Hardisk ---- \n",
            "=============================================\n"
          ]
        }
      ]
    },
    {
      "cell_type": "code",
      "source": [
        "class UTY(object):\n",
        "    def __init__(self, status, nama, prodi):\n",
        "        self.nama = nama\n",
        "        self.status = status\n",
        "        self.prodi = prodi\n",
        "\n",
        "    def Semangat(self):\n",
        "        print(\"Indonesia Maju! Indonesia Tumbuh! UTY Hebat???\")\n",
        "\n",
        "    def Info(self, detail=False):\n",
        "      if detail:\n",
        "        print(\"-- INFORMASI -- \")\n",
        "        print(\"Nama          : \" + self.nama)\n",
        "        print(\"Status        :\" + self.status)\n",
        "        print(\"Program Studi : \" + self.prodi)\n",
        "\n",
        "\n",
        "class Dosen(UTY):\n",
        "    def __init__(self, status, nama, prodi, nip):\n",
        "        self.nip = nip\n",
        "        super().__init__(status, nama, prodi)\n",
        "\n",
        "    def SemangatDosen(self):\n",
        "        self.Semangat()\n",
        "        print(\"Dosen Bermartabat??\")\n",
        "\n",
        "    def InfoDosen(self, detail=False ):\n",
        "      if detail:\n",
        "        self.Info()\n",
        "        print(\"NIP : \" + str(self.nip))\n",
        "\n",
        "\n",
        "class Mahasiswa(UTY):\n",
        "    def __init__(self, status, nama, prodi, npm):\n",
        "        self.npm = npm\n",
        "        super().__init__(status, nama, prodi)\n",
        "\n",
        "    def SemangatMahasiswa(self):\n",
        "        self.Semangat()\n",
        "        print(\"Mahasiswa Hebat!\")\n",
        "\n",
        "    def InfoMahasiswa(self, detail=False):\n",
        "        self.Info()\n",
        "        if detail:\n",
        "          print(\"NIP : \" + str(self.npm))"
      ],
      "metadata": {
        "id": "efqU8LL69Y-3"
      },
      "execution_count": 20,
      "outputs": []
    },
    {
      "cell_type": "code",
      "source": [
        "dosen = Dosen(\"Dosen\", \"Thomas\", \"Informatika\", 12345678)\n",
        "dosen.InfoDosen()\n",
        "dosen.SemangatDosen()\n",
        "print(\"=\" * 45)\n",
        "\n",
        "mahasiswa = Mahasiswa(\"Mahasiswa\", \"Mizuru\", \"Teknik Nuklir\", 522012345)\n",
        "mahasiswa.InfoMahasiswa()\n",
        "mahasiswa.SemangatMahasiswa()"
      ],
      "metadata": {
        "colab": {
          "base_uri": "https://localhost:8080/"
        },
        "id": "QvJwNWm39fkO",
        "outputId": "9d87754c-33c1-4585-a4d7-5067c0d28ecd"
      },
      "execution_count": 21,
      "outputs": [
        {
          "output_type": "stream",
          "name": "stdout",
          "text": [
            "Indonesia Maju! Indonesia Tumbuh! UTY Hebat???\n",
            "Dosen Bermartabat??\n",
            "=============================================\n",
            "Indonesia Maju! Indonesia Tumbuh! UTY Hebat???\n",
            "Mahasiswa Hebat!\n"
          ]
        }
      ]
    }
  ]
}
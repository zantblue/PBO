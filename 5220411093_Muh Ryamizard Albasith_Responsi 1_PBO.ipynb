{
  "nbformat": 4,
  "nbformat_minor": 0,
  "metadata": {
    "colab": {
      "provenance": [],
      "authorship_tag": "ABX9TyO2JleOhaN0UVWNLV8AkJl6",
      "include_colab_link": true
    },
    "kernelspec": {
      "name": "python3",
      "display_name": "Python 3"
    },
    "language_info": {
      "name": "python"
    }
  },
  "cells": [
    {
      "cell_type": "markdown",
      "metadata": {
        "id": "view-in-github",
        "colab_type": "text"
      },
      "source": [
        "<a href=\"https://colab.research.google.com/github/zantblue/PBO/blob/main/5220411093_Muh%20Ryamizard%20Albasith_Responsi%201_PBO.ipynb\" target=\"_parent\"><img src=\"https://colab.research.google.com/assets/colab-badge.svg\" alt=\"Open In Colab\"/></a>"
      ]
    },
    {
      "cell_type": "code",
      "execution_count": 10,
      "metadata": {
        "id": "F_yuwkwgazj3"
      },
      "outputs": [],
      "source": [
        "class Toko:\n",
        "    def __init__(self, nama):\n",
        "        self.nama = nama\n",
        "        self.daftar_produk = []\n",
        "\n",
        "    def tambahProduk(self, produk):\n",
        "        self.daftar_produk.append(produk)\n",
        "\n",
        "    def cariProduk(self, idProduk):\n",
        "        for produk in self.daftar_produk:\n",
        "            if produk.id == idProduk:\n",
        "                return produk\n",
        "        return None\n",
        "\n",
        "    def tampilkanProduk(self):\n",
        "        for produk in self.daftar_produk:\n",
        "            produk.dataProduk()\n",
        "\n",
        "    def hitung_total_harga(self):\n",
        "        return self.jumlah * self.produk.harga"
      ]
    },
    {
      "cell_type": "code",
      "source": [
        "class Transaksi:\n",
        "    def __init__(self, pelanggan, produk, jumlah):\n",
        "        self.pelanggan = pelanggan\n",
        "        self.produk = produk\n",
        "        self.jumlah = jumlah\n",
        "\n",
        "    def totalHarga(self):\n",
        "        return self.jumlah * self.produk.harga\n",
        "\n",
        "    def tampilkanInfo(self):\n",
        "        print(f\"-\" * 25)\n",
        "        print(f\"Nama               : {self.pelanggan.nama}\")\n",
        "        print(f\"Produk yang dibeli : {self.produk.nama}\")\n",
        "        print(f\"Jumlah             : {self.jumlah}\")\n",
        "        print(f\"Total harga        : {self.totalHarga()}\")"
      ],
      "metadata": {
        "id": "w-gJ32v_tMgb"
      },
      "execution_count": 11,
      "outputs": []
    },
    {
      "cell_type": "code",
      "source": [
        "class Pelanggan:\n",
        "    def __init__(self, id, nama, email, telepon):\n",
        "        self.id = id\n",
        "        self.nama = nama\n",
        "        self.email = email\n",
        "        self.telepon = telepon\n",
        "\n",
        "    def dataPelanggan(self):\n",
        "        print(f\"-\" * 25)\n",
        "        print(f\"Nama    : {self.nama}\")\n",
        "        print(f\"Email   : {self.email}\")\n",
        "        print(f\"Telepon : {self.telepon}\")\n",
        "\n",
        "\n",
        "pelanggan1 = Pelanggan(1, \"Ilham Rafi\", \"ilhamrafiUTY@gmail.com\", \"08123456789\")\n",
        "pelanggan2 = Pelanggan(1, \"Mizard\", \"mizardalb@gmail.com\", \"089529449568\")"
      ],
      "metadata": {
        "id": "happEA8KtMoB"
      },
      "execution_count": 12,
      "outputs": []
    },
    {
      "cell_type": "code",
      "source": [
        "class Produk:\n",
        "    def __init__(self, id, nama, harga, stok):\n",
        "        self.id = id\n",
        "        self.nama = nama\n",
        "        self.harga = harga\n",
        "        self.stok = stok\n",
        "\n",
        "    def dataProduk(self):\n",
        "        print(f\"-\" * 20)\n",
        "        print(f\"Nama    : {self.nama}\")\n",
        "        print(f\"Harga   : {self.harga}\")\n",
        "        print(f\"Stok    : {self.stok}\")\n",
        "\n",
        "\n",
        "produk1 = Produk(1, \"Indomie\", 3000, 18)\n",
        "produk2 = Produk(2, \"Mie Sedap\", 2500, 15)\n",
        "produk3 = Produk(3, \"Mie Sukses\", 4000, 7)\n",
        "produk4 = Produk(4, \"Sarimie\", 3500, 5)\n",
        "produk5 = Produk(5, \"Pop Mie\", 5000, 10)\n",
        "\n",
        "toko = Toko(\"Toko Unique\")\n",
        "toko.tambahProduk(produk1)\n",
        "toko.tambahProduk(produk2)\n",
        "toko.tambahProduk(produk3)\n",
        "toko.tambahProduk(produk4)\n",
        "toko.tambahProduk(produk5)"
      ],
      "metadata": {
        "id": "0trpZpeotUFp"
      },
      "execution_count": null,
      "outputs": []
    },
    {
      "cell_type": "code",
      "source": [
        "transaksi1 = Transaksi(pelanggan1, produk1, 3)\n",
        "transaksi2 = Transaksi(pelanggan2, produk2, 3)\n",
        "print(\"=\" * 25)\n",
        "\n",
        "print(\"----Info Tansaksi----\")\n",
        "Transaksi.tampilkanInfo(transaksi1)\n",
        "Transaksi.tampilkanInfo(transaksi2)\n",
        "print(\"=\" * 25)\n",
        "\n",
        "print(\"----Data Pelanggan----\")\n",
        "Pelanggan.dataPelanggan(pelanggan1)\n",
        "Pelanggan.dataPelanggan(pelanggan2)\n",
        "print(\"=\" * 25)\n",
        "\n",
        "\n",
        "print(\"---Tampil Produk--\")\n",
        "toko.tampilkanProduk()\n",
        "print(\"=\" * 25)"
      ],
      "metadata": {
        "colab": {
          "base_uri": "https://localhost:8080/"
        },
        "id": "thvWbPFItZLk",
        "outputId": "42b5210a-5047-44f6-d187-600faa09078a"
      },
      "execution_count": 13,
      "outputs": [
        {
          "output_type": "stream",
          "name": "stdout",
          "text": [
            "=========================\n",
            "----Info Tansaksi----\n",
            "-------------------------\n",
            "Nama               : Ilham Rafi\n",
            "Produk yang dibeli : Indomie\n",
            "Jumlah             : 3\n",
            "Total harga        : 9000\n",
            "-------------------------\n",
            "Nama               : Mizard\n",
            "Produk yang dibeli : Mie Sedap\n",
            "Jumlah             : 3\n",
            "Total harga        : 7500\n",
            "=========================\n",
            "----Data Pelanggan----\n",
            "-------------------------\n",
            "Nama    : Ilham Rafi\n",
            "Email   : ilhamrafiUTY@gmail.com\n",
            "Telepon : 08123456789\n",
            "-------------------------\n",
            "Nama    : Mizard\n",
            "Email   : mizardalb@gmail.com\n",
            "Telepon : 089529449568\n",
            "=========================\n",
            "---Tampil Produk--\n",
            "--------------------\n",
            "Nama    : Indomie\n",
            "Harga   : 3000\n",
            "Stok    : 18\n",
            "--------------------\n",
            "Nama    : Mie Sedap\n",
            "Harga   : 2500\n",
            "Stok    : 15\n",
            "--------------------\n",
            "Nama    : Mie Sukses\n",
            "Harga   : 4000\n",
            "Stok    : 7\n",
            "--------------------\n",
            "Nama    : Sarimie\n",
            "Harga   : 3500\n",
            "Stok    : 5\n",
            "--------------------\n",
            "Nama    : Pop Mie\n",
            "Harga   : 5000\n",
            "Stok    : 10\n",
            "=========================\n"
          ]
        }
      ]
    }
  ]
}